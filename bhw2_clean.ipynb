{
 "cells": [
  {
   "cell_type": "code",
   "execution_count": 1,
   "metadata": {
    "execution": {
     "iopub.execute_input": "2024-02-29T19:17:35.824609Z",
     "iopub.status.busy": "2024-02-29T19:17:35.823938Z",
     "iopub.status.idle": "2024-02-29T19:17:35.868805Z",
     "shell.execute_reply": "2024-02-29T19:17:35.867996Z",
     "shell.execute_reply.started": "2024-02-29T19:17:35.824568Z"
    }
   },
   "outputs": [],
   "source": [
    "%load_ext autoreload\n",
    "%autoreload 2"
   ]
  },
  {
   "cell_type": "code",
   "execution_count": 2,
   "metadata": {
    "execution": {
     "iopub.execute_input": "2024-02-29T19:19:39.024012Z",
     "iopub.status.busy": "2024-02-29T19:19:39.023218Z",
     "iopub.status.idle": "2024-02-29T19:19:39.062338Z",
     "shell.execute_reply": "2024-02-29T19:19:39.061505Z",
     "shell.execute_reply.started": "2024-02-29T19:19:39.023967Z"
    }
   },
   "outputs": [],
   "source": [
    "import warnings\n",
    "\n",
    "warnings.filterwarnings('ignore', category=UserWarning)"
   ]
  },
  {
   "cell_type": "code",
   "execution_count": 4,
   "metadata": {
    "execution": {
     "iopub.execute_input": "2024-02-29T19:17:36.026208Z",
     "iopub.status.busy": "2024-02-29T19:17:36.025762Z",
     "iopub.status.idle": "2024-02-29T19:17:49.473173Z",
     "shell.execute_reply": "2024-02-29T19:17:49.472332Z",
     "shell.execute_reply.started": "2024-02-29T19:17:36.026173Z"
    }
   },
   "outputs": [],
   "source": [
    "import torch\n",
    "from torch.utils.data import DataLoader\n",
    "import torch.nn as nn\n",
    "from dataset import TranslationDataset\n",
    "from model import Seq2SeqTransformer\n",
    "from train import train\n",
    "from tqdm.notebook import tqdm"
   ]
  },
  {
   "cell_type": "code",
   "execution_count": 5,
   "metadata": {
    "execution": {
     "iopub.execute_input": "2024-02-29T19:17:49.475014Z",
     "iopub.status.busy": "2024-02-29T19:17:49.474434Z",
     "iopub.status.idle": "2024-02-29T19:17:49.509295Z",
     "shell.execute_reply": "2024-02-29T19:17:49.508589Z",
     "shell.execute_reply.started": "2024-02-29T19:17:49.474975Z"
    }
   },
   "outputs": [],
   "source": [
    "SRC_LANGUAGE = 'de'\n",
    "TRG_LANGUAGE = 'en'\n",
    "BATCH_SIZE = 64"
   ]
  },
  {
   "cell_type": "code",
   "execution_count": 6,
   "metadata": {
    "execution": {
     "iopub.execute_input": "2024-02-29T19:18:17.325857Z",
     "iopub.status.busy": "2024-02-29T19:18:17.325133Z",
     "iopub.status.idle": "2024-02-29T19:18:19.937958Z",
     "shell.execute_reply": "2024-02-29T19:18:19.937129Z",
     "shell.execute_reply.started": "2024-02-29T19:18:17.325815Z"
    },
    "tags": []
   },
   "outputs": [],
   "source": [
    "train_dataset = TranslationDataset('data/train.de-en.de', 'data/train.de-en.en', SRC_LANGUAGE, TRG_LANGUAGE)\n",
    "val_dataset = TranslationDataset('data/val.de-en.de', 'data/val.de-en.en', SRC_LANGUAGE, TRG_LANGUAGE,)\n",
    "\n",
    "train_loader = DataLoader(train_dataset, batch_size=BATCH_SIZE, shuffle=True, collate_fn=train_dataset.build_collate_fn())\n",
    "val_loader = DataLoader(val_dataset, batch_size=BATCH_SIZE, shuffle=False, collate_fn=val_dataset.build_collate_fn())"
   ]
  },
  {
   "cell_type": "code",
   "execution_count": 7,
   "metadata": {
    "execution": {
     "iopub.execute_input": "2024-02-29T19:18:26.014749Z",
     "iopub.status.busy": "2024-02-29T19:18:26.013720Z",
     "iopub.status.idle": "2024-02-29T19:18:27.914643Z",
     "shell.execute_reply": "2024-02-29T19:18:27.913912Z",
     "shell.execute_reply.started": "2024-02-29T19:18:26.014704Z"
    }
   },
   "outputs": [
    {
     "name": "stdout",
     "output_type": "stream",
     "text": [
      "Vocabs are built with lengths:\n",
      "Train - 272269\n",
      "Val - 111592\n"
     ]
    }
   ],
   "source": [
    "SRC_VOCAB_SIZE, TRG_VOCAB_SIZE = train_dataset.vocab_sizes\n",
    "\n",
    "print(f\"Vocabs are built with lengths:\\n\"\n",
    "      f\"Train - {SRC_VOCAB_SIZE}\\n\"\n",
    "      f\"Val - {TRG_VOCAB_SIZE}\")\n",
    "\n",
    "EMB_SIZE = 512\n",
    "NHEAD = 8\n",
    "FFN_HID_DIM = 512\n",
    "NUM_ENCODER_LAYERS = 6\n",
    "NUM_DECODER_LAYERS = 6\n",
    "DROPOUT = 0.1\n",
    "MAX_LEN = 128\n",
    "\n",
    "device = torch.device('cuda:0' if torch.cuda.is_available() else 'cpu')\n",
    "\n",
    "model = Seq2SeqTransformer(NUM_ENCODER_LAYERS, NUM_DECODER_LAYERS, EMB_SIZE,\n",
    "                                 NHEAD, SRC_VOCAB_SIZE, TRG_VOCAB_SIZE, FFN_HID_DIM, DROPOUT, MAX_LEN).to(device)\n",
    "\n",
    "for p in model.parameters():\n",
    "    if p.dim() > 1:\n",
    "        nn.init.xavier_uniform_(p)\n",
    "\n",
    "optimizer = torch.optim.Adam(model.parameters(), lr=0.0001, betas=(0.9, 0.98), eps=1e-9)"
   ]
  },
  {
   "cell_type": "code",
   "execution_count": 8,
   "metadata": {
    "execution": {
     "iopub.execute_input": "2024-02-29T20:20:49.081473Z",
     "iopub.status.busy": "2024-02-29T20:20:49.080734Z",
     "iopub.status.idle": "2024-02-29T23:15:17.013540Z",
     "shell.execute_reply": "2024-02-29T23:15:17.012773Z",
     "shell.execute_reply.started": "2024-02-29T20:20:49.081432Z"
    },
    "tags": []
   },
   "outputs": [
    {
     "data": {
      "image/png": "[encoded data removed]",
      "text/plain": [
       "<Figure size 640x480 with 1 Axes>"
      ]
     },
     "metadata": {},
     "output_type": "display_data"
    }
   ],
   "source": [
    "NUM_EPOCHS = 1\n",
    "\n",
    "train(model, train_loader, val_loader, optimizer, NUM_EPOCHS, device, True)"
   ]
  },
  {
   "cell_type": "code",
   "execution_count": 14,
   "metadata": {
    "execution": {
     "iopub.execute_input": "2024-02-29T23:15:17.015700Z",
     "iopub.status.busy": "2024-02-29T23:15:17.014706Z",
     "iopub.status.idle": "2024-02-29T23:22:34.507102Z",
     "shell.execute_reply": "2024-02-29T23:22:34.506308Z",
     "shell.execute_reply.started": "2024-02-29T23:15:17.015650Z"
    },
    "tags": []
   },
   "outputs": [
    {
     "data": {
      "application/vnd.jupyter.widget-view+json": {
       "model_id": "d772190719cb451dbbbe7865b153d5d4",
       "version_major": 2,
       "version_minor": 0
      },
      "text/plain": [
       "Predicting:   0%|          | 0/7 [00:00<?, ?it/s]"
      ]
     },
     "metadata": {},
     "output_type": "display_data"
    },
    {
     "name": "stdout",
     "output_type": "stream",
     "text": [
      "tensor([ 2, 17, 17, 17, 17, 17, 17, 17, 17, 17, 17, 17, 17, 17, 17])\n",
      "the the the the the the the the the the the the the the \n",
      "tensor([ 2, 17, 17, 17, 17, 17, 17, 17, 17, 17, 17, 17, 17, 17, 17, 17, 17, 17,\n",
      "        17, 17, 17, 17, 17, 17])\n",
      "the the the the the the the the the the the the the the the the the the the the the the the \n",
      "tensor([ 2, 17, 17, 17, 17, 17, 17, 17, 17, 17])\n",
      "the the the the the the the the the \n",
      "tensor([ 2, 17, 17, 17, 17, 17, 17, 17, 17, 17, 17, 17, 17, 17, 17, 17, 17, 17,\n",
      "        17, 17, 17, 17, 17, 17, 17, 17, 17, 17, 17, 17, 17, 17, 17, 17, 17, 17,\n",
      "        17, 17, 17, 17, 17, 17, 17, 17, 17, 17, 17, 17, 17, 17, 17])\n",
      "the the the the the the the the the the the the the the the the the the the the the the the the the the the the the the the the the the the the the the the the the the the the the the the the the the \n",
      "tensor([ 2, 17, 17, 17, 17, 17, 17, 17, 17, 17, 17, 17, 17, 17, 17, 17, 17, 17,\n",
      "        17, 17, 17, 17, 17, 17, 17, 17, 17, 17])\n",
      "the the the the the the the the the the the the the the the the the the the the the the the the the the the \n",
      "tensor([ 2, 17, 17, 17, 17, 17, 17, 17, 17, 17, 17, 17, 17, 17, 17, 17, 17, 17,\n",
      "        17, 17, 17, 17, 17, 17, 17, 17, 17, 17, 17, 17])\n",
      "the the the the the the the the the the the the the the the the the the the the the the the the the the the the the \n",
      "tensor([ 2, 17, 17, 17, 17, 17, 17, 17, 17, 17, 17, 17, 17, 17, 17, 17, 17, 17,\n",
      "        17, 17, 17])\n",
      "the the the the the the the the the the the the the the the the the the the the \n"
     ]
    }
   ],
   "source": [
    "test_dataset = TranslationDataset('data/test1.de-en.de', src_language=SRC_LANGUAGE, is_test=True)\n",
    "test_loader = DataLoader(test_dataset, batch_size=1, shuffle=False, collate_fn=test_dataset.build_collate_fn())\n",
    "trg_vocab = train_dataset.vocabs[TRG_LANGUAGE]\n",
    "\n",
    "cnt = 0\n",
    "with open('predictions.txt', 'w') as pred:\n",
    "    for src, trg in tqdm(test_loader, desc='Predicting'):\n",
    "        translation = model.translate(src, trg_vocab, device)\n",
    "        pred.write(translation + '\\n')\n",
    "        if cnt < 7:\n",
    "            print(translation)\n",
    "        cnt += 1\n",
    "\n",
    "# translate(model, src_test_file, tgt_test_file, sp_model_path, device, 128)"
   ]
  },
  {
   "cell_type": "code",
   "execution_count": 30,
   "metadata": {},
   "outputs": [],
   "source": [
    "# class CustomTransformerModel(nn.Module):\n",
    "#     def __init__(self, src_vocab_size, tgt_vocab_size, emb_size=512, nhead=8, num_encoder_layers=6, num_decoder_layers=6, dim_feedforward=2048, dropout=0.1):\n",
    "#         super(CustomTransformerModel, self).__init__()\n",
    "#         self.src_tok_emb = nn.Embedding(src_vocab_size, emb_size)\n",
    "#         self.tgt_tok_emb = nn.Embedding(tgt_vocab_size, emb_size)\n",
    "#         self.positional_encoding = PositionalEncoding(emb_size, dropout)\n",
    "\n",
    "#         self.encoder_layer = nn.TransformerEncoderLayer(d_model=emb_size, nhead=nhead, dim_feedforward=dim_feedforward, dropout=dropout, batch_first=True)\n",
    "#         self.transformer_encoder = nn.TransformerEncoder(self.encoder_layer, num_layers=num_encoder_layers)\n",
    "\n",
    "#         self.decoder_layer = nn.TransformerDecoderLayer(d_model=emb_size, nhead=nhead, dim_feedforward=dim_feedforward, dropout=dropout, batch_first=True)\n",
    "#         self.transformer_decoder = nn.TransformerDecoder(self.decoder_layer, num_layers=num_decoder_layers)\n",
    "\n",
    "#         self.generator = nn.Linear(emb_size, tgt_vocab_size)\n",
    "\n",
    "#     def forward(self, src, tgt, src_mask=None, tgt_mask=None, src_padding_mask=None, tgt_padding_mask=None):\n",
    "#         src_emb = self.positional_encoding(self.src_tok_emb(src))\n",
    "#         tgt_emb = self.positional_encoding(self.tgt_tok_emb(tgt))\n",
    "\n",
    "#         memory = self.transformer_encoder(src_emb, mask=src_mask, src_key_padding_mask=src_padding_mask)\n",
    "#         outs = self.transformer_decoder(tgt_emb, memory, tgt_mask=tgt_mask, tgt_key_padding_mask=tgt_padding_mask)\n",
    "        \n",
    "#         return self.generator(outs)\n",
    "\n",
    "# class PositionalEncoding(nn.Module):\n",
    "#     def __init__(self, embedding_dim, dropout=0.1, max_len=5000):\n",
    "#         super(PositionalEncoding, self).__init__()\n",
    "#         self.dropout = nn.Dropout(p=dropout)\n",
    "\n",
    "#         position = torch.arange(max_len).unsqueeze(1)\n",
    "#         div_term = torch.exp(torch.arange(0, embedding_dim, 2) * -(math.log(10000.0) / embedding_dim))\n",
    "#         pe = torch.zeros(max_len, embedding_dim)\n",
    "#         pe[:, 0::2] = torch.sin(position * div_term)\n",
    "#         pe[:, 1::2] = torch.cos(position * div_term)\n",
    "#         pe = pe.unsqueeze(0)\n",
    "#         self.register_buffer('pe', pe)\n",
    "\n",
    "#     def forward(self, x):\n",
    "#         res_pe = self.pe[:, :x.size(1)]\n",
    "#         x = x + res_pe\n",
    "#         return self.dropout(x)"
   ]
  },
  {
   "cell_type": "code",
   "execution_count": 92,
   "metadata": {},
   "outputs": [],
   "source": [
    "# class SimpleSeq2Seq(nn.Module):\n",
    "#     def __init__(self, input_dim, output_dim, emb_dim, hid_dim, n_layers, dropout, device):\n",
    "#         super().__init__()\n",
    "#         self.encoder_embedding = nn.Embedding(input_dim, emb_dim)\n",
    "#         self.decoder_embedding = nn.Embedding(output_dim, emb_dim)\n",
    "#         self.rnn = nn.LSTM(emb_dim, hid_dim, n_layers, dropout=dropout, bidirectional=True)\n",
    "#         self.fc = nn.Linear(hid_dim * 2, output_dim)\n",
    "#         self.dropout = nn.Dropout(dropout)\n",
    "#         self.device = device\n",
    "\n",
    "#     def forward(self, src, trg, teacher_forcing_ratio=0.5):\n",
    "#         embedded = self.dropout(self.encoder_embedding(src))\n",
    "#         encoder_outputs, (hidden, cell) = self.rnn(embedded)\n",
    "\n",
    "#         trg_len = trg.shape[0]\n",
    "#         batch_size = trg.shape[1]\n",
    "#         outputs = torch.zeros(trg_len, batch_size, self.fc.out_features).to(self.device)\n",
    "\n",
    "#         input = trg[0,:]\n",
    "#         for t in range(1, trg_len):\n",
    "#             embedded = self.dropout(self.decoder_embedding(input)).unsqueeze(0)\n",
    "#             output, (hidden, cell) = self.rnn(embedded, (hidden, cell))\n",
    "#             output = self.fc(output.squeeze(0))\n",
    "#             outputs[t] = output\n",
    "#             top1 = output.argmax(1) \n",
    "#             input = trg[t] if random.random() < teacher_forcing_ratio else top1\n",
    "\n",
    "#         return outputs"
   ]
  },
  {
   "cell_type": "code",
   "execution_count": 94,
   "metadata": {},
   "outputs": [],
   "source": [
    "# def translate(model, src_sequence, sp_model, device, max_length=50):\n",
    "#     model.eval()\n",
    "#     with torch.no_grad():\n",
    "#         src_tensor = torch.tensor([src_sequence], dtype=torch.long).to(device)\n",
    "#         src_tensor = src_tensor.transpose(0, 1)\n",
    "#         outputs = [sp_model.bos_id()]\n",
    "        \n",
    "#         for i in range(max_length):\n",
    "#             trg_tensor = torch.LongTensor(outputs).unsqueeze(1).to(device)\n",
    "            \n",
    "#             with torch.no_grad():\n",
    "#                 output = model(src_tensor, trg_tensor)\n",
    "            \n",
    "#             best_guess = output.argmax(2)[-1, :].item()\n",
    "#             outputs.append(best_guess)\n",
    "\n",
    "#             if best_guess == sp_model.eos_id():\n",
    "#                 break\n",
    "        \n",
    "#         translated_sentence = sp_model.decode(outputs)\n",
    "#         return translated_sentence\n",
    "\n",
    "# def evaluate_bleu(model, val_loader, sp_model, device):\n",
    "#     model.eval()\n",
    "#     refs = []\n",
    "#     hyps = []\n",
    "#     for src, trg in val_loader:\n",
    "#         src, trg = src.to(device), trg.to(device)\n",
    "        \n",
    "#         for i in range(src.shape[1]):\n",
    "#             src_sequence = src[:, i].tolist()\n",
    "#             translated_sentence = translate(model, src_sequence, sp_model)\n",
    "#             hyps.append(translated_sentence)\n",
    "            \n",
    "#             trg_sequence = trg[:, i].tolist()\n",
    "#             true_sentence = sp_model.decode(trg_sequence)\n",
    "#             refs.append([true_sentence])\n",
    "    \n",
    "#     bleu_score = sacrebleu.corpus_bleu(hyps, refs)\n",
    "#     return bleu_score.score\n",
    "\n",
    "# def training_epoch(model, train_loader, optimizer, criterion, tqdm_desc, device):\n",
    "#     model.train()\n",
    "#     train_loss = 0\n",
    "#     for src, trg in tqdm(train_loader, desc=tqdm_desc):\n",
    "#         src, trg = src.to(device), trg.to(device)\n",
    "#         optimizer.zero_grad()\n",
    "#         output = model(src, trg)\n",
    "#         output_dim = output.shape[-1]\n",
    "#         output = output[:, :-1].contiguous().view(-1, output_dim)\n",
    "#         trg = trg[:, 1:].contiguous().view(-1)\n",
    "#         loss = criterion(output, trg)\n",
    "#         loss.backward()\n",
    "#         optimizer.step()\n",
    "#         train_loss += loss.item()\n",
    "#     return train_loss / len(train_loader)\n",
    "\n",
    "\n",
    "# def evaluate(model, val_loader, criterion, tqdm_desc, device):\n",
    "#     model.eval()\n",
    "#     total_loss = 0\n",
    "#     with torch.no_grad():\n",
    "#         for src, trg in tqdm(val_loader, desc=tqdm_desc):\n",
    "#             src, trg = src.to(device), trg.to(device)\n",
    "#             output = model(src, trg[:, :-1])\n",
    "#             output_dim = output.shape[-1]\n",
    "#             output = output.contiguous().view(-1, output_dim)\n",
    "#             trg = trg[:, 1:].contiguous().view(-1)\n",
    "#             loss = criterion(output, trg)\n",
    "#             total_loss += loss.item()\n",
    "#     return total_loss / len(val_loader)\n",
    "\n",
    "\n",
    "\n",
    "# def train(model, train_loader, val_loader, optimizer, criterion, device, epochs=10):\n",
    "#     train_losses, val_losses, val_bleus = [], [], []\n",
    "#     for epoch in range(1, epochs + 1):\n",
    "#         train_loss = training_epoch(model, train_loader, optimizer, criterion, f\"Trainig {epoch}/{epochs}\", device)\n",
    "#         val_loss = evaluate(model, val_loader, criterion, f\"Validating {epoch}/{epochs}\", device)\n",
    "#         val_bleu = evaluate_bleu(model, val_loader, val_loader.dataset.sp_model, device)\n",
    "\n",
    "#         train_losses.append(train_loss)\n",
    "#         val_losses.append(val_loss)\n",
    "#         val_bleus.append(val_bleu)\n",
    "#         plot_losses(train_losses, val_losses, val_bleus)"
   ]
  }
 ],
 "metadata": {
  "kernelspec": {
   "display_name": "DataSphere Kernel",
   "language": "python",
   "name": "python3"
  },
  "language_info": {
   "codemirror_mode": {
    "name": "ipython",
    "version": 3
   },
   "file_extension": ".py",
   "mimetype": "text/x-python",
   "name": "python",
   "nbconvert_exporter": "python",
   "pygments_lexer": "ipython3",
   "version": "3.11.5"
  }
 },
 "nbformat": 4,
 "nbformat_minor": 4
}
